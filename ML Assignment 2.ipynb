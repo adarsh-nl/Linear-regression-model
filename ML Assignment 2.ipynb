{
 "cells": [
  {
   "cell_type": "code",
   "execution_count": 208,
   "metadata": {},
   "outputs": [],
   "source": [
    "import pandas as pd\n",
    "import numpy as np"
   ]
  },
  {
   "cell_type": "code",
   "execution_count": 209,
   "metadata": {},
   "outputs": [],
   "source": [
    "data= pd.read_csv(\"./OSA dataset - Sheet1.csv\")"
   ]
  },
  {
   "cell_type": "code",
   "execution_count": 210,
   "metadata": {},
   "outputs": [
    {
     "data": {
      "text/html": [
       "<div>\n",
       "<style scoped>\n",
       "    .dataframe tbody tr th:only-of-type {\n",
       "        vertical-align: middle;\n",
       "    }\n",
       "\n",
       "    .dataframe tbody tr th {\n",
       "        vertical-align: top;\n",
       "    }\n",
       "\n",
       "    .dataframe thead th {\n",
       "        text-align: right;\n",
       "    }\n",
       "</style>\n",
       "<table border=\"1\" class=\"dataframe\">\n",
       "  <thead>\n",
       "    <tr style=\"text-align: right;\">\n",
       "      <th></th>\n",
       "      <th>Palprebal fissure width</th>\n",
       "      <th>OSA</th>\n",
       "    </tr>\n",
       "  </thead>\n",
       "  <tbody>\n",
       "    <tr>\n",
       "      <th>0</th>\n",
       "      <td>0.40</td>\n",
       "      <td>1.02</td>\n",
       "    </tr>\n",
       "    <tr>\n",
       "      <th>1</th>\n",
       "      <td>0.42</td>\n",
       "      <td>1.21</td>\n",
       "    </tr>\n",
       "    <tr>\n",
       "      <th>2</th>\n",
       "      <td>0.48</td>\n",
       "      <td>0.88</td>\n",
       "    </tr>\n",
       "    <tr>\n",
       "      <th>3</th>\n",
       "      <td>0.51</td>\n",
       "      <td>0.98</td>\n",
       "    </tr>\n",
       "    <tr>\n",
       "      <th>4</th>\n",
       "      <td>0.57</td>\n",
       "      <td>1.52</td>\n",
       "    </tr>\n",
       "  </tbody>\n",
       "</table>\n",
       "</div>"
      ],
      "text/plain": [
       "   Palprebal fissure width   OSA\n",
       "0                     0.40  1.02\n",
       "1                     0.42  1.21\n",
       "2                     0.48  0.88\n",
       "3                     0.51  0.98\n",
       "4                     0.57  1.52"
      ]
     },
     "execution_count": 210,
     "metadata": {},
     "output_type": "execute_result"
    }
   ],
   "source": [
    "data.head()"
   ]
  },
  {
   "cell_type": "code",
   "execution_count": 211,
   "metadata": {},
   "outputs": [
    {
     "data": {
      "text/html": [
       "<div>\n",
       "<style scoped>\n",
       "    .dataframe tbody tr th:only-of-type {\n",
       "        vertical-align: middle;\n",
       "    }\n",
       "\n",
       "    .dataframe tbody tr th {\n",
       "        vertical-align: top;\n",
       "    }\n",
       "\n",
       "    .dataframe thead th {\n",
       "        text-align: right;\n",
       "    }\n",
       "</style>\n",
       "<table border=\"1\" class=\"dataframe\">\n",
       "  <thead>\n",
       "    <tr style=\"text-align: right;\">\n",
       "      <th></th>\n",
       "      <th>Palprebal fissure width</th>\n",
       "      <th>OSA</th>\n",
       "    </tr>\n",
       "  </thead>\n",
       "  <tbody>\n",
       "    <tr>\n",
       "      <th>22</th>\n",
       "      <td>1.37</td>\n",
       "      <td>3.99</td>\n",
       "    </tr>\n",
       "    <tr>\n",
       "      <th>10</th>\n",
       "      <td>0.84</td>\n",
       "      <td>2.00</td>\n",
       "    </tr>\n",
       "    <tr>\n",
       "      <th>9</th>\n",
       "      <td>0.78</td>\n",
       "      <td>1.63</td>\n",
       "    </tr>\n",
       "    <tr>\n",
       "      <th>1</th>\n",
       "      <td>0.42</td>\n",
       "      <td>1.21</td>\n",
       "    </tr>\n",
       "    <tr>\n",
       "      <th>2</th>\n",
       "      <td>0.48</td>\n",
       "      <td>0.88</td>\n",
       "    </tr>\n",
       "  </tbody>\n",
       "</table>\n",
       "</div>"
      ],
      "text/plain": [
       "    Palprebal fissure width   OSA\n",
       "22                     1.37  3.99\n",
       "10                     0.84  2.00\n",
       "9                      0.78  1.63\n",
       "1                      0.42  1.21\n",
       "2                      0.48  0.88"
      ]
     },
     "execution_count": 211,
     "metadata": {},
     "output_type": "execute_result"
    }
   ],
   "source": [
    "data=data.sample(frac=1)\n",
    "data.head()"
   ]
  },
  {
   "cell_type": "code",
   "execution_count": 212,
   "metadata": {},
   "outputs": [
    {
     "data": {
      "text/html": [
       "<div>\n",
       "<style scoped>\n",
       "    .dataframe tbody tr th:only-of-type {\n",
       "        vertical-align: middle;\n",
       "    }\n",
       "\n",
       "    .dataframe tbody tr th {\n",
       "        vertical-align: top;\n",
       "    }\n",
       "\n",
       "    .dataframe thead th {\n",
       "        text-align: right;\n",
       "    }\n",
       "</style>\n",
       "<table border=\"1\" class=\"dataframe\">\n",
       "  <thead>\n",
       "    <tr style=\"text-align: right;\">\n",
       "      <th></th>\n",
       "      <th>Palprebal fissure width</th>\n",
       "      <th>OSA</th>\n",
       "    </tr>\n",
       "  </thead>\n",
       "  <tbody>\n",
       "    <tr>\n",
       "      <th>14</th>\n",
       "      <td>1.12</td>\n",
       "      <td>3.05</td>\n",
       "    </tr>\n",
       "    <tr>\n",
       "      <th>20</th>\n",
       "      <td>1.30</td>\n",
       "      <td>4.27</td>\n",
       "    </tr>\n",
       "    <tr>\n",
       "      <th>8</th>\n",
       "      <td>0.75</td>\n",
       "      <td>1.74</td>\n",
       "    </tr>\n",
       "    <tr>\n",
       "      <th>5</th>\n",
       "      <td>0.60</td>\n",
       "      <td>1.83</td>\n",
       "    </tr>\n",
       "    <tr>\n",
       "      <th>25</th>\n",
       "      <td>1.46</td>\n",
       "      <td>4.18</td>\n",
       "    </tr>\n",
       "  </tbody>\n",
       "</table>\n",
       "</div>"
      ],
      "text/plain": [
       "    Palprebal fissure width   OSA\n",
       "14                     1.12  3.05\n",
       "20                     1.30  4.27\n",
       "8                      0.75  1.74\n",
       "5                      0.60  1.83\n",
       "25                     1.46  4.18"
      ]
     },
     "execution_count": 212,
     "metadata": {},
     "output_type": "execute_result"
    }
   ],
   "source": [
    "data_train=data[:24]\n",
    "data_test=data[24:]\n",
    "data_test.head()"
   ]
  },
  {
   "cell_type": "code",
   "execution_count": 213,
   "metadata": {},
   "outputs": [
    {
     "name": "stdout",
     "output_type": "stream",
     "text": [
      "The mean of palprebal fissure width is: 1.0366666666666668\n",
      "The mean of OSA is: 2.7516666666666665\n"
     ]
    }
   ],
   "source": [
    "x_mean=data_train[\"Palprebal fissure width\"].mean()\n",
    "y_mean=data_train[\"OSA\"].mean()\n",
    "print(\"The mean of palprebal fissure width is: {}\".format(x_mean))\n",
    "print(\"The mean of OSA is: {}\".format(y_mean))"
   ]
  },
  {
   "cell_type": "code",
   "execution_count": 214,
   "metadata": {},
   "outputs": [
    {
     "name": "stdout",
     "output_type": "stream",
     "text": [
      "The value of numerator part in calculating b1 is: 0.3627277777777776\n"
     ]
    }
   ],
   "source": [
    "numerator=0\n",
    "for i in range (24):\n",
    "    numerator=(data[\"Palprebal fissure width\"][i]-x_mean)*(data[\"OSA\"][i]-y_mean)\n",
    "\n",
    "print(\"The value of numerator part in calculating b1 is: {}\".format(numerator))    "
   ]
  },
  {
   "cell_type": "code",
   "execution_count": 215,
   "metadata": {},
   "outputs": [
    {
     "name": "stdout",
     "output_type": "stream",
     "text": [
      "The denominator value in calculating b1 is: 0.20551111111111095\n"
     ]
    }
   ],
   "source": [
    "denominator=0\n",
    "for i in range (27):\n",
    "    denominator=(data[\"Palprebal fissure width\"][i]-x_mean)**2\n",
    "print(\"The denominator value in calculating b1 is: {}\".format(denominator))"
   ]
  },
  {
   "cell_type": "code",
   "execution_count": 216,
   "metadata": {},
   "outputs": [
    {
     "name": "stdout",
     "output_type": "stream",
     "text": [
      "The value of b1 is: 1.7650032439446373\n"
     ]
    }
   ],
   "source": [
    "b1=numerator/denominator\n",
    "print(\"The value of b1 is: {}\".format(b1))"
   ]
  },
  {
   "cell_type": "code",
   "execution_count": 217,
   "metadata": {},
   "outputs": [
    {
     "name": "stdout",
     "output_type": "stream",
     "text": [
      "The value of b0 is: 0.9219466371107254\n",
      "The linear equation would be: y=0.9219466371107254+1.7650032439446373.x\n"
     ]
    }
   ],
   "source": [
    "b0=y_mean-(b1*x_mean)\n",
    "print(\"The value of b0 is: {}\".format(b0))\n",
    "print(\"The linear equation would be: y={}+{}.x\".format(b0,b1))"
   ]
  },
  {
   "cell_type": "code",
   "execution_count": 218,
   "metadata": {},
   "outputs": [],
   "source": [
    "result=[]\n",
    "def predictY(x):\n",
    "    for i in range(len(x)):\n",
    "        result.append(b0+(b1*x[i]))\n",
    "        \n",
    "    return result"
   ]
  },
  {
   "cell_type": "code",
   "execution_count": 219,
   "metadata": {},
   "outputs": [
    {
     "name": "stdout",
     "output_type": "stream",
     "text": [
      "[1.12 1.3  0.75 0.6  1.46 1.43]\n",
      "[3.05 4.27 1.74 1.83 4.18 4.1 ]\n"
     ]
    }
   ],
   "source": [
    "x=data_test[\"Palprebal fissure width\"]\n",
    "x=np.asarray(x)\n",
    "print(x)\n",
    "y=data_test[\"OSA\"]\n",
    "y=np.asarray(y)\n",
    "print(y)"
   ]
  },
  {
   "cell_type": "code",
   "execution_count": 220,
   "metadata": {},
   "outputs": [
    {
     "name": "stdout",
     "output_type": "stream",
     "text": [
      "[2.898750270328719, 3.2164508542387535, 2.2456990700692034, 1.9809485834775078, 3.498851373269896, 3.445901275951557]\n"
     ]
    }
   ],
   "source": [
    "test_result=predictY(x)\n",
    "print(test_result)"
   ]
  },
  {
   "cell_type": "code",
   "execution_count": 221,
   "metadata": {},
   "outputs": [],
   "source": [
    "def TSS(x):\n",
    "    for i in range(len(x)):\n",
    "        TSS=(x[i]-y_mean)**2 \n",
    "    return TSS       "
   ]
  },
  {
   "cell_type": "code",
   "execution_count": 222,
   "metadata": {},
   "outputs": [],
   "source": [
    "def mse(x,result):\n",
    "    for i in range(len(x)):\n",
    "        MSE=((x[i]-result[i])**2)\n",
    "    print(\"The Mean Squared Error is: {}\".format(MSE/len(x)))\n",
    "\n",
    "def mae(x,result):\n",
    "    for i in range(len(x)):\n",
    "        MAE=(x[i]-result[i])\n",
    "    print(\"The Mean Absolute Error is: {}\".format(MAE/len(x)))\n",
    "\n",
    "def r2(x,result,TSS):\n",
    "    for i in range(len(x)):\n",
    "        r2= ((x[i]-result[i])**2)\n",
    "        r2=r2/TSS\n",
    "    print(\"The R2 score is: {}\".format(r2))\n",
    "        "
   ]
  },
  {
   "cell_type": "code",
   "execution_count": 223,
   "metadata": {},
   "outputs": [],
   "source": [
    " #MSE, MAE, R2 for the TEST set\n",
    " TSS_train=TSS(yy)\n",
    " TSS_test=TSS(y)"
   ]
  },
  {
   "cell_type": "code",
   "execution_count": 224,
   "metadata": {},
   "outputs": [
    {
     "name": "stdout",
     "output_type": "stream",
     "text": [
      "The Mean Squared Error is: 0.07130752346696682\n",
      "None\n",
      "The Mean Absolute Error is: 0.1090164540080738\n",
      "None\n",
      "The R2 score is: 0.235338001696991\n",
      "None\n"
     ]
    }
   ],
   "source": [
    "print(mse(y,test_result))\n",
    "print(mae(y,test_result))\n",
    "print(r2(y,test_result,TSS_test))"
   ]
  },
  {
   "cell_type": "code",
   "execution_count": 225,
   "metadata": {},
   "outputs": [],
   "source": [
    "xx=data_train[\"Palprebal fissure width\"]\n",
    "xx=np.asarray(xx)\n",
    "train_result=predictY(xx)\n",
    "yy=data_train[\"OSA\"]\n",
    "yy=np.asarray(yy)"
   ]
  },
  {
   "cell_type": "code",
   "execution_count": 226,
   "metadata": {},
   "outputs": [
    {
     "name": "stdout",
     "output_type": "stream",
     "text": [
      "The Mean Squared Error is: 0.0551712849331397\n",
      "None\n",
      "The Mean Absolute Error is: 0.04794583964100348\n",
      "None\n",
      "The R2 score is: 0.5743678034684351\n",
      "None\n"
     ]
    }
   ],
   "source": [
    "print(mse(yy,train_result))\n",
    "print(mae(yy,train_result))\n",
    "print(r2(yy,train_result,TSS_train))"
   ]
  },
  {
   "cell_type": "code",
   "execution_count": null,
   "metadata": {},
   "outputs": [],
   "source": []
  }
 ],
 "metadata": {
  "kernelspec": {
   "display_name": "Python 3.7.6 ('ml')",
   "language": "python",
   "name": "python3"
  },
  "language_info": {
   "codemirror_mode": {
    "name": "ipython",
    "version": 3
   },
   "file_extension": ".py",
   "mimetype": "text/x-python",
   "name": "python",
   "nbconvert_exporter": "python",
   "pygments_lexer": "ipython3",
   "version": "3.7.6"
  },
  "orig_nbformat": 4,
  "vscode": {
   "interpreter": {
    "hash": "041f63f5bd39cc4971e376ebd7a03494f48b91ad70cebe9db3f3131de3f14f05"
   }
  }
 },
 "nbformat": 4,
 "nbformat_minor": 2
}
